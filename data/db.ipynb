{
 "cells": [
  {
   "cell_type": "markdown",
   "metadata": {},
   "source": [
    "# Base de datos\n",
    "\n",
    "Funcion para crear la base de datos en sqlite 3"
   ]
  },
  {
   "cell_type": "code",
   "execution_count": 3,
   "metadata": {},
   "outputs": [],
   "source": [
    "import sqlite3\n",
    "\n",
    "# Crear la base de datos con una configuración básica\n",
    "def init_db():\n",
    "    conn = sqlite3.connect('hotel_reservas_basica.db')\n",
    "    cursor = conn.cursor()\n",
    "    cursor.execute('''\n",
    "    CREATE TABLE IF NOT EXISTS habitaciones (\n",
    "        id INTEGER PRIMARY KEY AUTOINCREMENT,\n",
    "        tipo_habitacion TEXT,\n",
    "        estado TEXT,\n",
    "        camas INTEGER,\n",
    "        camas_ocupadas INTEGER\n",
    "    )\n",
    "    ''')\n",
    "    cursor.execute('''\n",
    "    CREATE TABLE IF NOT EXISTS reservas (\n",
    "        id INTEGER PRIMARY KEY AUTOINCREMENT,\n",
    "        id_usuario INTEGER,\n",
    "        id_habitacion INTEGER,\n",
    "        check_in DATE,\n",
    "        check_out DATE,\n",
    "        estado TEXT,\n",
    "        info_pago TEXT\n",
    "    )\n",
    "    ''')\n",
    "    \n",
    "    # Insertar datos iniciales de las habitaciones (4 ordinarias y 2 compartidas)\n",
    "    cursor.execute('SELECT COUNT(*) FROM habitaciones')\n",
    "    if cursor.fetchone()[0] == 0:\n",
    "        habitaciones_data = [\n",
    "            ('King', 'disponible', 1, 0),\n",
    "            ('King', 'disponible', 1, 0),\n",
    "            ('Individual', 'disponible', 1, 0),\n",
    "            ('Individual', 'disponible', 1, 0),\n",
    "            ('Compartida', 'disponible', 4, 0),\n",
    "            ('Compartida', 'disponible', 4, 0)\n",
    "        ]\n",
    "        cursor.executemany('INSERT INTO habitaciones (tipo_habitacion, estado, camas, camas_ocupadas) VALUES (?, ?, ?, ?)', habitaciones_data)\n",
    "    \n",
    "    conn.commit()\n",
    "    conn.close()"
   ]
  },
  {
   "cell_type": "code",
   "execution_count": 4,
   "metadata": {},
   "outputs": [
    {
     "name": "stdout",
     "output_type": "stream",
     "text": [
      "(1, 'King', 'disponible', 1, 0)\n",
      "(2, 'King', 'disponible', 1, 0)\n",
      "(3, 'Individual', 'disponible', 1, 0)\n",
      "(4, 'Individual', 'disponible', 1, 0)\n",
      "(5, 'Compartida', 'disponible', 4, 0)\n",
      "(6, 'Compartida', 'disponible', 4, 0)\n"
     ]
    }
   ],
   "source": [
    "# Ejecutar la función para inicializar la base de datos básica\n",
    "init_db()\n",
    "\n",
    "# Comprobar el contenido de las tablas\n",
    "conn = sqlite3.connect('hotel_reservas_basica.db')\n",
    "cursor = conn.cursor()\n",
    "cursor.execute('SELECT * FROM habitaciones')\n",
    "habitaciones = cursor.fetchall()\n",
    "conn.close()\n",
    "\n",
    "for i in habitaciones:\n",
    "    print(i)"
   ]
  }
 ],
 "metadata": {
  "kernelspec": {
   "display_name": "Python 3",
   "language": "python",
   "name": "python3"
  },
  "language_info": {
   "codemirror_mode": {
    "name": "ipython",
    "version": 3
   },
   "file_extension": ".py",
   "mimetype": "text/x-python",
   "name": "python",
   "nbconvert_exporter": "python",
   "pygments_lexer": "ipython3",
   "version": "3.12.4"
  }
 },
 "nbformat": 4,
 "nbformat_minor": 2
}
