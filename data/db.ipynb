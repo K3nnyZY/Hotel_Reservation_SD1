{
 "cells": [
  {
   "cell_type": "markdown",
   "metadata": {},
   "source": [
    "# Base de datos\n",
    "\n",
    "Funcion para crear la base de datos en sqlite 3"
   ]
  },
  {
   "cell_type": "code",
   "execution_count": 1,
   "metadata": {},
   "outputs": [],
   "source": [
    "import sqlite3\n",
    "\n",
    "def init_db():\n",
    "    conn = sqlite3.connect('hotel_reservas_basica.db')\n",
    "    cursor = conn.cursor()\n",
    "    cursor.execute('''\n",
    "    CREATE TABLE IF NOT EXISTS habitaciones (\n",
    "        id INTEGER PRIMARY KEY AUTOINCREMENT,\n",
    "        tipo_habitacion TEXT,\n",
    "        camas INTEGER,\n",
    "        camas_ocupadas INTEGER\n",
    "    )\n",
    "    ''')\n",
    "    cursor.execute('''\n",
    "    CREATE TABLE IF NOT EXISTS reservas (\n",
    "        id INTEGER PRIMARY KEY AUTOINCREMENT,\n",
    "        numero_identificacion INTEGER,\n",
    "        nombre TEXT,\n",
    "        id_habitacion INTEGER,\n",
    "        check_in DATE,\n",
    "        check_out DATE,\n",
    "        estado TEXT,\n",
    "        numero_contacto INTEGER,\n",
    "        email TEXT\n",
    "    )\n",
    "    ''')\n",
    "    \n",
    "    # Insertar datos iniciales de las habitaciones (4 ordinarias y 2 compartidas)\n",
    "    cursor.execute('SELECT COUNT(*) FROM habitaciones')\n",
    "    if cursor.fetchone()[0] == 0:\n",
    "        habitaciones_data = [\n",
    "            (101 + i, 'Individual', 1, 0) for i in range(3)\n",
    "        ] + [\n",
    "            (201 + i, 'King', 1, 0) for i in range(3)\n",
    "        ] + [\n",
    "            (301 + i, 'Compartida', 4, 0) for i in range(3)\n",
    "        ]\n",
    "        cursor.executemany('INSERT INTO habitaciones (id, tipo_habitacion, camas, camas_ocupadas) VALUES (?, ?, ?, ?)', habitaciones_data)\n",
    "    \n",
    "    conn.commit()\n",
    "    conn.close()"
   ]
  },
  {
   "cell_type": "code",
   "execution_count": 2,
   "metadata": {},
   "outputs": [
    {
     "data": {
      "text/plain": [
       "[(201, 'King', 1, 1), (202, 'King', 1, 0), (203, 'King', 1, 1)]"
      ]
     },
     "execution_count": 2,
     "metadata": {},
     "output_type": "execute_result"
    }
   ],
   "source": [
    "# Ejecutar la función para inicializar la base de datos básica\n",
    "init_db()\n",
    "# Comprobar el contenido de las tablas\n",
    "conn = sqlite3.connect('hotel_reservas_basica.db')\n",
    "cursor = conn.cursor()\n",
    "cursor.execute('SELECT * FROM habitaciones where tipo_habitacion = \"King\"')\n",
    "habitaciones = cursor.fetchall()\n",
    "conn.close()\n",
    "\n",
    "habitaciones"
   ]
  },
  {
   "cell_type": "code",
   "execution_count": 3,
   "metadata": {},
   "outputs": [
    {
     "data": {
      "text/plain": [
       "[(1,\n",
       "  1001818160,\n",
       "  'Kenny Dong Jie Zhu Ye',\n",
       "  201,\n",
       "  '2024-07-09',\n",
       "  '2024-07-09',\n",
       "  'confirmada',\n",
       "  3024424366,\n",
       "  'kennyzhuye15@gmail.com'),\n",
       " (2,\n",
       "  1001818160,\n",
       "  'kenny',\n",
       "  301,\n",
       "  '2024-07-09',\n",
       "  '2024-07-09',\n",
       "  'confirmada',\n",
       "  2332323,\n",
       "  'kekff@gmail.com'),\n",
       " (3, 1, 'cas', 301, '2024-07-09', '2024-07-09', 'confirmada', 1, 'ca'),\n",
       " (4, 121, 'dada', 301, '2024-07-09', '2024-07-10', 'confirmada', 21, 'dad'),\n",
       " (5,\n",
       "  13213,\n",
       "  'afafaf',\n",
       "  103,\n",
       "  '2024-07-09',\n",
       "  '2024-07-09',\n",
       "  'confirmada',\n",
       "  2313,\n",
       "  'fafafa'),\n",
       " (6,\n",
       "  1001818160,\n",
       "  'Kenny Dong Jie Zhu Ye',\n",
       "  302,\n",
       "  '2024-07-25',\n",
       "  '2024-07-25',\n",
       "  'confirmada',\n",
       "  3024424366,\n",
       "  'kennyzhuye15@gmail.com'),\n",
       " (7,\n",
       "  44244,\n",
       "  'rgegr',\n",
       "  203,\n",
       "  '2024-07-09',\n",
       "  '2024-07-17',\n",
       "  'confirmada',\n",
       "  4242,\n",
       "  'gege')]"
      ]
     },
     "execution_count": 3,
     "metadata": {},
     "output_type": "execute_result"
    }
   ],
   "source": [
    "# Comprobar el contenido de las tablas\n",
    "conn = sqlite3.connect('hotel_reservas_basica.db')\n",
    "cursor = conn.cursor()\n",
    "cursor.execute('SELECT * FROM reservas')\n",
    "reservas = cursor.fetchall()\n",
    "conn.close()\n",
    "\n",
    "reservas"
   ]
  },
  {
   "cell_type": "code",
   "execution_count": 4,
   "metadata": {},
   "outputs": [
    {
     "name": "stdout",
     "output_type": "stream",
     "text": [
      "(201,)\n",
      "(301,)\n",
      "(301,)\n",
      "(301,)\n",
      "(103,)\n",
      "(203,)\n"
     ]
    },
    {
     "data": {
      "text/plain": [
       "[(202, 'King', 1, 0)]"
      ]
     },
     "execution_count": 4,
     "metadata": {},
     "output_type": "execute_result"
    }
   ],
   "source": [
    "import sqlite3\n",
    "\n",
    "# Conectar a la base de datos\n",
    "conn = sqlite3.connect('hotel_reservas_basica.db')\n",
    "cursor = conn.cursor()\n",
    "\n",
    "# Ejecutar el query para obtener habitaciones disponibles\n",
    "cursor.execute('''\n",
    "    SELECT id_habitacion FROM reservas \n",
    "    WHERE (? <= check_out AND ? >= check_in)\n",
    "''', ('2024-07-09', '2024-07-10'))\n",
    "reservas = cursor.fetchall()\n",
    "\n",
    "# Cerrar la conexión\n",
    "conn.close()\n",
    "\n",
    "# Mostrar las habitaciones disponibles\n",
    "for i in reservas:\n",
    "    print(i)\n",
    "\n",
    "habitaciones_disponibles = [\n",
    "    habitacion for habitacion in habitaciones\n",
    "    if (habitacion[0],) not in reservas\n",
    "    ]\n",
    "habitaciones_disponibles"
   ]
  },
  {
   "cell_type": "code",
   "execution_count": 5,
   "metadata": {},
   "outputs": [
    {
     "data": {
      "text/plain": [
       "[(201, 'King', 1, 1), (202, 'King', 1, 0)]"
      ]
     },
     "execution_count": 5,
     "metadata": {},
     "output_type": "execute_result"
    }
   ],
   "source": [
    "import sqlite3\n",
    "\n",
    "# Definir los parámetros de la consulta\n",
    "tipo_habitacion = 'King'\n",
    "check_in = '2024-07-12'\n",
    "check_out = '2024-07-20'\n",
    "\n",
    "# Conectar a la base de datos\n",
    "conn = sqlite3.connect('hotel_reservas_basica.db')\n",
    "cursor = conn.cursor()\n",
    "\n",
    "# Ejecutar el query para obtener habitaciones disponibles\n",
    "cursor.execute('''\n",
    "    SELECT * FROM habitaciones \n",
    "    WHERE tipo_habitacion = ? AND id NOT IN (\n",
    "        SELECT id_habitacion FROM reservas\n",
    "        WHERE (check_in BETWEEN ? AND ?) OR (check_out BETWEEN ? AND ?) OR (? BETWEEN check_in AND check_out) OR (? BETWEEN check_in AND check_out)\n",
    "    )\n",
    "''', (tipo_habitacion, check_in, check_out, check_in, check_out, check_in, check_out))\n",
    "habitaciones_disponibles = cursor.fetchall()\n",
    "\n",
    "# Cerrar la conexión\n",
    "conn.close()\n",
    "\n",
    "# Mostrar las habitaciones disponibles\n",
    "habitaciones_disponibles\n"
   ]
  },
  {
   "cell_type": "code",
   "execution_count": 6,
   "metadata": {},
   "outputs": [
    {
     "data": {
      "text/plain": [
       "[(301, 'Compartida', 4, 3, 0),\n",
       " (302, 'Compartida', 4, 1, 0),\n",
       " (303, 'Compartida', 4, 0, 0)]"
      ]
     },
     "execution_count": 6,
     "metadata": {},
     "output_type": "execute_result"
    }
   ],
   "source": [
    "# Definir los parámetros de la consulta\n",
    "tipo_habitacion = 'Compartida'\n",
    "check_in = '2024-07-12'\n",
    "check_out = '2024-07-12'\n",
    "\n",
    "conn = sqlite3.connect('hotel_reservas_basica.db')\n",
    "cursor = conn.cursor()\n",
    "\n",
    "cursor.execute('''\n",
    "        SELECT h.id, h.tipo_habitacion, h.camas, h.camas_ocupadas, \n",
    "               (SELECT COUNT(*) FROM reservas r \n",
    "                WHERE r.id_habitacion = h.id \n",
    "                  AND ((r.check_in <= ? AND r.check_out >= ?) \n",
    "                       OR (r.check_in >= ? AND r.check_out <= ?))) as camas_ocupadas_periodo \n",
    "        FROM habitaciones h \n",
    "        WHERE h.tipo_habitacion = ? \n",
    "        GROUP BY h.id, h.tipo_habitacion, h.camas, h.camas_ocupadas \n",
    "        HAVING h.camas - camas_ocupadas_periodo > 0\n",
    "        ''', (check_out, check_in, check_in, check_out, tipo_habitacion))\n",
    "\n",
    "habitaciones_disponibles = cursor.fetchall()\n",
    "\n",
    "# Cerrar la conexión\n",
    "conn.close()\n",
    "\n",
    "# Mostrar las habitaciones disponibles\n",
    "habitaciones_disponibles"
   ]
  }
 ],
 "metadata": {
  "kernelspec": {
   "display_name": "Python 3",
   "language": "python",
   "name": "python3"
  },
  "language_info": {
   "codemirror_mode": {
    "name": "ipython",
    "version": 3
   },
   "file_extension": ".py",
   "mimetype": "text/x-python",
   "name": "python",
   "nbconvert_exporter": "python",
   "pygments_lexer": "ipython3",
   "version": "3.12.4"
  }
 },
 "nbformat": 4,
 "nbformat_minor": 2
}
